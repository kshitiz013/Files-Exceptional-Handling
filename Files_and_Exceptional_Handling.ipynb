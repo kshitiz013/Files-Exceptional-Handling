{
  "nbformat": 4,
  "nbformat_minor": 0,
  "metadata": {
    "colab": {
      "provenance": []
    },
    "kernelspec": {
      "name": "python3",
      "display_name": "Python 3"
    },
    "language_info": {
      "name": "python"
    }
  },
  "cells": [
    {
      "cell_type": "code",
      "execution_count": null,
      "metadata": {
        "id": "WXqElzidMh2N"
      },
      "outputs": [],
      "source": [
        "# 1. Discuss the scenarios where multithreading is preferable to multiprocessing and scenarios where multiprocessing is a better choice."
      ]
    },
    {
      "cell_type": "code",
      "source": [
        "# Multithreading is preferable for tasks that are I/O-bound, need shared memory access, involve lightweight operations, or require fine-grained parallelism.\n"
      ],
      "metadata": {
        "id": "z9STXtLSM7GG"
      },
      "execution_count": null,
      "outputs": []
    },
    {
      "cell_type": "code",
      "source": [],
      "metadata": {
        "id": "x9JplabhNE1W"
      },
      "execution_count": null,
      "outputs": []
    },
    {
      "cell_type": "code",
      "source": [
        "# 2. Describe what a process pool is and how it helps in managing multiple processes efficiently."
      ],
      "metadata": {
        "id": "bRg_uCK8NBVp"
      },
      "execution_count": null,
      "outputs": []
    },
    {
      "cell_type": "code",
      "source": [
        "# A process pool is a collection of process that are performed concurrently ,it is the term used for where multiple processes need to be performed.The primary goal is to\n",
        "# reduce overhead related to creation and destruction of process.\n",
        "# When a process pool is created, a fixed number of worker processes are initialized and kept alive. This set of processes is available to handle tasks as they are submitted.\n"
      ],
      "metadata": {
        "id": "kCMSUmopNLde"
      },
      "execution_count": null,
      "outputs": []
    },
    {
      "cell_type": "code",
      "source": [],
      "metadata": {
        "id": "Y7y5yzGUNR1v"
      },
      "execution_count": null,
      "outputs": []
    },
    {
      "cell_type": "code",
      "source": [
        "# 3. Explain what multiprocessing is and why it is used in Python programs"
      ],
      "metadata": {
        "id": "Am68u8DNNP8C"
      },
      "execution_count": null,
      "outputs": []
    },
    {
      "cell_type": "code",
      "source": [
        "# Multiprocessing is a technique used in programming to achieve parallelism by using multiple processes. Each process runs independently and has its own memory space, which allows them to perform tasks concurrently. This approach can significantly enhance the performance of programs, especially in scenarios involving CPU-bound tasks or when there's a need for high levels of isolation between tasks.\n",
        "# Multiprocessing is Used in Python Programs for-\n",
        "# Overcoming the Global Interpreter Lock (GIL)\n",
        "# Enhanced Performance for CPU-Bound Tasks\n",
        "# Isolation of Processes\n",
        "# Parallel Execution\n",
        "# Resource Management\n"
      ],
      "metadata": {
        "id": "8fFYSNsANXUP"
      },
      "execution_count": null,
      "outputs": []
    },
    {
      "cell_type": "code",
      "source": [],
      "metadata": {
        "id": "gIlcu75YNeTw"
      },
      "execution_count": null,
      "outputs": []
    },
    {
      "cell_type": "code",
      "source": [
        "# 4.Write a Python program using multithreading where one thread adds numbers to a list, and another thread removes numbers from the list.\n",
        "#  Implement a mechanism to avoid race conditions using threading.Lock."
      ],
      "metadata": {
        "id": "-jQEX44sNdb6"
      },
      "execution_count": null,
      "outputs": []
    },
    {
      "cell_type": "code",
      "source": [
        "import threading\n",
        "import time\n",
        "shared_list = []\n",
        "lock = threading.Lock()\n",
        "def add_numbers():\n",
        "    global shared_list\n",
        "    for i in range(10):\n",
        "        with lock:\n",
        "            shared_list.append(i)\n",
        "            print(f\"Added {i}: {shared_list}\")\n",
        "        time.sleep(0.1)\n",
        "def remove_numbers():\n",
        "    global shared_list\n",
        "    for _ in range(10):\n",
        "        with lock:\n",
        "            if shared_list:\n",
        "                removed = shared_list.pop(0)\n",
        "                print(f\"Removed {removed}: {shared_list}\")\n",
        "        time.sleep(0.2)\n",
        "thread_add = threading.Thread(target=add_numbers)\n",
        "thread_remove = threading.Thread(target=remove_numbers)\n",
        "thread_add.start()\n",
        "thread_remove.start()\n",
        "thread_add.join()\n",
        "thread_remove.join()\n",
        "\n",
        "print(\"Final state of the list:\", shared_list)"
      ],
      "metadata": {
        "colab": {
          "base_uri": "https://localhost:8080/"
        },
        "id": "99p6aa3yNoAk",
        "outputId": "17eab08d-4f10-4a18-ef9f-700162b1d716"
      },
      "execution_count": null,
      "outputs": [
        {
          "output_type": "stream",
          "name": "stdout",
          "text": [
            "Added 0: [0]\n",
            "Removed 0: []\n",
            "Added 1: [1]\n",
            "Added 2: [1, 2]\n",
            "Removed 1: [2]\n",
            "Added 3: [2, 3]\n",
            "Removed 2: [3]\n",
            "Added 4: [3, 4]\n",
            "Added 5: [3, 4, 5]\n",
            "Removed 3: [4, 5]\n",
            "Added 6: [4, 5, 6]\n",
            "Added 7: [4, 5, 6, 7]\n",
            "Removed 4: [5, 6, 7]\n",
            "Added 8: [5, 6, 7, 8]\n",
            "Added 9: [5, 6, 7, 8, 9]\n",
            "Removed 5: [6, 7, 8, 9]\n",
            "Removed 6: [7, 8, 9]\n",
            "Removed 7: [8, 9]\n",
            "Removed 8: [9]\n",
            "Removed 9: []\n",
            "Final state of the list: []\n"
          ]
        }
      ]
    },
    {
      "cell_type": "code",
      "source": [],
      "metadata": {
        "id": "0Fi0sO3LNwJ-"
      },
      "execution_count": null,
      "outputs": []
    },
    {
      "cell_type": "code",
      "source": [
        "#  5.Describe the methods and tools available in Python for safely sharing data between threads and processes."
      ],
      "metadata": {
        "id": "xlyn_8JINuTU"
      },
      "execution_count": null,
      "outputs": []
    },
    {
      "cell_type": "code",
      "source": [
        "# For threads and processes there are different different method\n",
        "# Threads-\n",
        "# 1.threading.Lock()-allows access to important data to only one threads at a time\n",
        "# 2.threading.Condition()-to allow the thread meet certain conditioning before executing\n",
        "# 3.thread.join()-wait for whole threads to execute\n",
        "# For process-\n",
        "# 1.multiprocessing.Queue-To provide a process-safe FIFO queue for communication between processes.\n",
        "# 2.multiprocessing.Pipe-To create a two-way communication channel between processes.\n"
      ],
      "metadata": {
        "id": "TJ8bmjUCN47x"
      },
      "execution_count": null,
      "outputs": []
    },
    {
      "cell_type": "code",
      "source": [],
      "metadata": {
        "id": "8Kc5csoaOKTc"
      },
      "execution_count": null,
      "outputs": []
    },
    {
      "cell_type": "code",
      "source": [
        "# 6. Discuss why it’s crucial to handle exceptions in concurrent programs and the techniques available for doing so."
      ],
      "metadata": {
        "id": "V9z5JehDOJaN"
      },
      "execution_count": null,
      "outputs": []
    },
    {
      "cell_type": "code",
      "source": [
        "# # When multiple threads or processes run simultaneously, the chances of encountering unexpected issues or errors increase. If these exceptions are not handled properly,\n",
        "# they can lead to unpredictable behavior, crashes, resource leaks, and compromised data integrity.\n",
        "\n",
        "# # Exception Handling Within Threads-\n",
        "# # Each thread should handle its own exceptions to ensure that it can fail gracefully without affecting other threads.\n",
        "# # Propagating Exceptions-To handle exceptions raised in threads from the main thread, you can use a thread-safe mechanism to report errors\n",
        "\n",
        "\n",
        "# # Exception Handling in Processes\n",
        "# # each process should handle its own exceptions. However, since processes do not share memory space, the main process needs a way to collect and handle exceptions from child processes.\n"
      ],
      "metadata": {
        "id": "FBkaC9MYOsIF"
      },
      "execution_count": null,
      "outputs": []
    },
    {
      "cell_type": "code",
      "source": [
        "# 7. Create a program that uses a thread pool to calculate the factorial of numbers from 1 to 10 concurrently.\n",
        "# Use concurrent.futures.ThreadPoolExecutor to manage the threads."
      ],
      "metadata": {
        "id": "UsB6BXTmOxrp"
      },
      "execution_count": null,
      "outputs": []
    },
    {
      "cell_type": "code",
      "source": [
        "import concurrent.futures\n",
        "import math\n",
        "\n",
        "def factorial(n):\n",
        "    \"\"\"Calculate the factorial of a number.\"\"\"\n",
        "    return math.factorial(n)\n",
        "\n",
        "def main():\n",
        "    # Numbers to compute factorials for\n",
        "    numbers = range(1, 11)\n",
        "\n",
        "    # Create a ThreadPoolExecutor to manage threads\n",
        "    with concurrent.futures.ThreadPoolExecutor() as executor:\n",
        "        # Use a dictionary to map futures to the numbers\n",
        "        future_to_number = {executor.submit(factorial, num): num for num in numbers}\n",
        "\n",
        "        # Retrieve results as they are completed\n",
        "        for future in concurrent.futures.as_completed(future_to_number):\n",
        "            num = future_to_number[future]\n",
        "            try:\n",
        "                result = future.result()\n",
        "                print(f'Factorial of {num} is {result}')\n",
        "            except Exception as exc:\n",
        "                print(f'Error calculating factorial for {num}: {exc}')\n",
        "\n",
        "if __name__ == \"__main__\":\n",
        "    main()\n"
      ],
      "metadata": {
        "colab": {
          "base_uri": "https://localhost:8080/"
        },
        "id": "VCpuFJrfOP2C",
        "outputId": "5316342a-550e-4979-d0bc-7b7359703c9b"
      },
      "execution_count": null,
      "outputs": [
        {
          "output_type": "stream",
          "name": "stdout",
          "text": [
            "Factorial of 10 is 3628800\n",
            "Factorial of 4 is 24\n",
            "Factorial of 2 is 2\n",
            "Factorial of 1 is 1\n",
            "Factorial of 8 is 40320\n",
            "Factorial of 9 is 362880\n",
            "Factorial of 6 is 720\n",
            "Factorial of 5 is 120\n",
            "Factorial of 3 is 6\n",
            "Factorial of 7 is 5040\n"
          ]
        }
      ]
    },
    {
      "cell_type": "code",
      "source": [
        "# 8. Create a Python program that uses multiprocessing.Pool to compute the square of numbers from 1 to 10 in parallel.\n",
        "#  Measure the time taken to perform this computation using a pool of different sizes (e.g., 2, 4, 8 processes)."
      ],
      "metadata": {
        "id": "10iqWvMlOWAT"
      },
      "execution_count": null,
      "outputs": []
    },
    {
      "cell_type": "code",
      "source": [
        "import multiprocessing\n",
        "import time\n",
        "\n",
        "def square(n):\n",
        "    \"\"\"Calculate the square of a number.\"\"\"\n",
        "    return n * n\n",
        "\n",
        "def measure_time(pool_size, numbers):\n",
        "    \"\"\"Measure the time taken to compute squares with a given pool size.\"\"\"\n",
        "    start_time = time.time()\n",
        "\n",
        "    with multiprocessing.Pool(processes=pool_size) as pool:\n",
        "        results = pool.map(square, numbers)\n",
        "\n",
        "    end_time = time.time()\n",
        "\n",
        "    time_taken = end_time - start_time\n",
        "    return time_taken, results\n",
        "\n",
        "def main():\n",
        "    # Numbers to compute squares for\n",
        "    numbers = list(range(1, 11))\n",
        "\n",
        "    # Different pool sizes to test\n",
        "    pool_sizes = [2, 4, 8]\n",
        "\n",
        "    for pool_size in pool_sizes:\n",
        "        time_taken, results = measure_time(pool_size, numbers)\n",
        "        print(f'Pool size: {pool_size}')\n",
        "        print(f'Time taken: {time_taken:.4f} seconds')\n",
        "        print('Results:', results)\n",
        "        print('-' * 40)\n",
        "\n",
        "if __name__ == \"__main__\":\n",
        "    main()"
      ],
      "metadata": {
        "colab": {
          "base_uri": "https://localhost:8080/"
        },
        "id": "AZ8BtoMVO9bZ",
        "outputId": "4e6ff319-7797-4e2c-d4df-6b2b2a6db319"
      },
      "execution_count": null,
      "outputs": [
        {
          "output_type": "stream",
          "name": "stdout",
          "text": [
            "Pool size: 2\n",
            "Time taken: 0.0360 seconds\n",
            "Results: [1, 4, 9, 16, 25, 36, 49, 64, 81, 100]\n",
            "----------------------------------------\n",
            "Pool size: 4\n",
            "Time taken: 0.0503 seconds\n",
            "Results: [1, 4, 9, 16, 25, 36, 49, 64, 81, 100]\n",
            "----------------------------------------\n",
            "Pool size: 8\n",
            "Time taken: 0.0941 seconds\n",
            "Results: [1, 4, 9, 16, 25, 36, 49, 64, 81, 100]\n",
            "----------------------------------------\n"
          ]
        }
      ]
    },
    {
      "cell_type": "code",
      "source": [],
      "metadata": {
        "id": "V4pqJRCASat9"
      },
      "execution_count": null,
      "outputs": []
    }
  ]
}